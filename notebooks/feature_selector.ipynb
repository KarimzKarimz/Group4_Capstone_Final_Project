{
 "cells": [
  {
   "cell_type": "code",
   "execution_count": 2,
   "id": "e55e85be",
   "metadata": {},
   "outputs": [],
   "source": [
    "import numpy as np\n",
    "import pandas as pd\n",
    "import pandas as pd\n",
    "from sklearn.preprocessing import StandardScaler\n",
    "from sklearn.metrics.pairwise import cosine_similarity\n",
    "\n",
    "# === 1. Load Raw Excel ===\n",
    "df = pd.read_excel(\"../data/2024_Finaccess_Publicdata.xlsx\")"
   ]
  },
  {
   "cell_type": "code",
   "execution_count": null,
   "id": "fe66855e",
   "metadata": {},
   "outputs": [],
   "source": []
  },
  {
   "cell_type": "code",
   "execution_count": 1,
   "id": "d46646eb",
   "metadata": {},
   "outputs": [
    {
     "ename": "NameError",
     "evalue": "name 'df' is not defined",
     "output_type": "error",
     "traceback": [
      "\u001b[31m---------------------------------------------------------------------------\u001b[39m",
      "\u001b[31mNameError\u001b[39m                                 Traceback (most recent call last)",
      "\u001b[36mCell\u001b[39m\u001b[36m \u001b[39m\u001b[32mIn[1]\u001b[39m\u001b[32m, line 18\u001b[39m\n\u001b[32m      1\u001b[39m \u001b[38;5;66;03m# === 2. Select Relevant Columns ===\u001b[39;00m\n\u001b[32m      2\u001b[39m relevant_cols = [\n\u001b[32m      3\u001b[39m     \u001b[33m\"\u001b[39m\u001b[33mA08\u001b[39m\u001b[33m\"\u001b[39m,              \u001b[38;5;66;03m# area_type (Urban/Rural)\u001b[39;00m\n\u001b[32m      4\u001b[39m     \u001b[33m\"\u001b[39m\u001b[33mA13\u001b[39m\u001b[33m\"\u001b[39m,              \u001b[38;5;66;03m# gender\u001b[39;00m\n\u001b[32m   (...)\u001b[39m\u001b[32m     16\u001b[39m     \u001b[33m\"\u001b[39m\u001b[33mC1_35\u001b[39m\u001b[33m\"\u001b[39m             \u001b[38;5;66;03m# invest_forex\u001b[39;00m\n\u001b[32m     17\u001b[39m ]\n\u001b[32m---> \u001b[39m\u001b[32m18\u001b[39m df_subset = \u001b[43mdf\u001b[49m[relevant_cols].copy()\n\u001b[32m     20\u001b[39m \u001b[38;5;66;03m# === 3. Rename Columns ===\u001b[39;00m\n\u001b[32m     21\u001b[39m df_subset.columns = [\n\u001b[32m     22\u001b[39m     \u001b[33m\"\u001b[39m\u001b[33marea_type\u001b[39m\u001b[33m\"\u001b[39m, \u001b[33m\"\u001b[39m\u001b[33mgender\u001b[39m\u001b[33m\"\u001b[39m, \u001b[33m\"\u001b[39m\u001b[33mmonthly_income\u001b[39m\u001b[33m\"\u001b[39m, \u001b[33m\"\u001b[39m\u001b[33mmonthly_expenditure\u001b[39m\u001b[33m\"\u001b[39m,\n\u001b[32m     23\u001b[39m     \u001b[33m\"\u001b[39m\u001b[33msave_bank\u001b[39m\u001b[33m\"\u001b[39m, \u001b[33m\"\u001b[39m\u001b[33msave_mobile_money\u001b[39m\u001b[33m\"\u001b[39m, \u001b[33m\"\u001b[39m\u001b[33msave_sacco\u001b[39m\u001b[33m\"\u001b[39m, \u001b[33m\"\u001b[39m\u001b[33msave_friends\u001b[39m\u001b[33m\"\u001b[39m, \u001b[33m\"\u001b[39m\u001b[33msave_digital\u001b[39m\u001b[33m\"\u001b[39m,\n\u001b[32m     24\u001b[39m     \u001b[33m\"\u001b[39m\u001b[33mloan_mobile\u001b[39m\u001b[33m\"\u001b[39m, \u001b[33m\"\u001b[39m\u001b[33mloan_sacco\u001b[39m\u001b[33m\"\u001b[39m, \u001b[33m\"\u001b[39m\u001b[33mloan_digital\u001b[39m\u001b[33m\"\u001b[39m, \u001b[33m\"\u001b[39m\u001b[33mloan_family\u001b[39m\u001b[33m\"\u001b[39m, \u001b[33m\"\u001b[39m\u001b[33minvest_forex\u001b[39m\u001b[33m\"\u001b[39m\n\u001b[32m     25\u001b[39m ]\n",
      "\u001b[31mNameError\u001b[39m: name 'df' is not defined"
     ]
    }
   ],
   "source": [
    "\n",
    "\n",
    "# === 2. Select Relevant Columns ===\n",
    "relevant_cols = [\n",
    "    \"A08\",              # area_type (Urban/Rural)\n",
    "    \"A13\",              # gender\n",
    "    \"B3Ii\",             # monthly_income\n",
    "    \"U23\",              # monthly_expenditure\n",
    "    \"C1_1a\",            # save_bank\n",
    "    \"C1_2\",             # save_mobile_money\n",
    "    \"C1_4\",             # save_sacco\n",
    "    \"C1_6\",             # save_friends\n",
    "    \"C1_9\",             # save_digital\n",
    "    \"C1_15\",            # loan_mobile\n",
    "    \"C1_17\",            # loan_sacco\n",
    "    \"C1_19\",            # loan_digital\n",
    "    \"C1_25\",            # loan_family\n",
    "    \"C1_35\"             # invest_forex\n",
    "]\n",
    "df_subset = df[relevant_cols].copy()\n",
    "\n",
    "# === 3. Rename Columns ===\n",
    "df_subset.columns = [\n",
    "    \"area_type\", \"gender\", \"monthly_income\", \"monthly_expenditure\",\n",
    "    \"save_bank\", \"save_mobile_money\", \"save_sacco\", \"save_friends\", \"save_digital\",\n",
    "    \"loan_mobile\", \"loan_sacco\", \"loan_digital\", \"loan_family\", \"invest_forex\"\n",
    "]\n"
   ]
  },
  {
   "cell_type": "code",
   "execution_count": 4,
   "id": "bb4d7fa6",
   "metadata": {},
   "outputs": [
    {
     "name": "stderr",
     "output_type": "stream",
     "text": [
      "C:\\Users\\ronny somi\\AppData\\Local\\Temp\\ipykernel_8400\\1233527928.py:13: FutureWarning: DataFrame.applymap has been deprecated. Use DataFrame.map instead.\n",
      "  df_subset[behavior_cols] = df_subset[behavior_cols].applymap(lambda x: usage_map.get(x, 0))\n"
     ]
    }
   ],
   "source": [
    "\n",
    "# === 4. Map Usage Levels to Ordinal ===\n",
    "usage_map = {\n",
    "    \"Never used\": 0,\n",
    "    \"Used to use\": 1,\n",
    "    \"Currently use\": 2,\n",
    "    pd.NA: 0,\n",
    "    None: 0\n",
    "}\n",
    "behavior_cols = [\n",
    "    'save_bank', 'save_mobile_money', 'save_sacco', 'save_friends', 'save_digital',\n",
    "    'loan_mobile', 'loan_sacco', 'loan_digital', 'loan_family', 'invest_forex'\n",
    "]\n",
    "df_subset[behavior_cols] = df_subset[behavior_cols].applymap(lambda x: usage_map.get(x, 0))\n"
   ]
  },
  {
   "cell_type": "code",
   "execution_count": 5,
   "id": "16d55560",
   "metadata": {},
   "outputs": [],
   "source": [
    "\n",
    "# === 5. Encode Demographics ===\n",
    "df_subset['gender'] = df_subset['gender'].map({'Male': 0, 'Female': 1})\n",
    "df_subset['area_type'] = df_subset['area_type'].map({'Rural': 0, 'Urban': 1})"
   ]
  },
  {
   "cell_type": "code",
   "execution_count": 6,
   "id": "8c50e6e3",
   "metadata": {},
   "outputs": [],
   "source": [
    "\n",
    "\n",
    "# === 6. Fill Missing Numeric Data ===\n",
    "df_subset['monthly_income'] = df_subset['monthly_income'].fillna(df_subset['monthly_income'].median())\n",
    "df_subset['monthly_expenditure'] = df_subset['monthly_expenditure'].fillna(df_subset['monthly_expenditure'].median())\n",
    "\n",
    "# === 7. Scale Features ===\n",
    "scaler = StandardScaler()\n",
    "household_scaled = scaler.fit_transform(df_subset)\n"
   ]
  },
  {
   "cell_type": "code",
   "execution_count": 7,
   "id": "786ab371",
   "metadata": {},
   "outputs": [],
   "source": [
    "# === 8. Create 3 Dummy Investment Profiles ===\n",
    "investment_profiles = pd.DataFrame([\n",
    "    [1, 1, 0.3, 0.3, 2, 1, 2, 1, 0, 0, 0, 0, 0, 0],  # Conservative\n",
    "    [1, 1, 0.5, 0.5, 1, 1, 1, 1, 1, 1, 1, 1, 1, 0],  # Balanced\n",
    "    [1, 1, 0.6, 0.6, 0, 2, 0, 0, 2, 2, 2, 2, 2, 2]   # Aggressive\n",
    "], columns=df_subset.columns, index=['conservative', 'balanced', 'aggressive'])\n",
    "\n",
    "investment_scaled = scaler.transform(investment_profiles)"
   ]
  },
  {
   "cell_type": "code",
   "execution_count": 8,
   "id": "b4464675",
   "metadata": {},
   "outputs": [],
   "source": [
    "\n",
    "\n",
    "# === 9. Compute Cosine Similarity ===\n",
    "similarity_matrix = cosine_similarity(household_scaled, investment_scaled)\n",
    "recommendations = pd.DataFrame(similarity_matrix, columns=investment_profiles.index)\n",
    "\n",
    "# === 10. Label Top-1 Strategy ===\n",
    "df_subset[\"investment_label\"] = recommendations.apply(lambda row: row.nlargest(1).index[0], axis=1)"
   ]
  },
  {
   "cell_type": "code",
   "execution_count": 9,
   "id": "ce9a0356",
   "metadata": {},
   "outputs": [
    {
     "name": "stdout",
     "output_type": "stream",
     "text": [
      "✅ Saved to labeled_household_investments.csv\n"
     ]
    }
   ],
   "source": [
    "\n",
    "\n",
    "# === 11. Save to CSV ===\n",
    "df_subset.to_csv(\"labeled_household_investments.csv\", index=False)\n",
    "print(\"✅ Saved to labeled_household_investments.csv\")\n"
   ]
  },
  {
   "cell_type": "code",
   "execution_count": null,
   "id": "898cbe42",
   "metadata": {},
   "outputs": [],
   "source": []
  }
 ],
 "metadata": {
  "kernelspec": {
   "display_name": ".venv (3.11.9)",
   "language": "python",
   "name": "python3"
  },
  "language_info": {
   "codemirror_mode": {
    "name": "ipython",
    "version": 3
   },
   "file_extension": ".py",
   "mimetype": "text/x-python",
   "name": "python",
   "nbconvert_exporter": "python",
   "pygments_lexer": "ipython3",
   "version": "3.11.9"
  }
 },
 "nbformat": 4,
 "nbformat_minor": 5
}
